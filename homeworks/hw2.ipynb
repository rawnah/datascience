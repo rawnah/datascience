{
 "cells": [
  {
   "cell_type": "markdown",
   "metadata": {},
   "source": [
    "# Homework Assignment 2"
   ]
  },
  {
   "cell_type": "markdown",
   "metadata": {},
   "source": [
    "## Section 1: Admissions Dataset"
   ]
  },
  {
   "cell_type": "code",
   "execution_count": 422,
   "metadata": {
    "collapsed": true
   },
   "outputs": [],
   "source": [
    "import pandas as pd\n",
    "import numpy as np\n",
    "\n",
    "from sklearn import datasets\n",
    "from sklearn.model_selection import train_test_split\n",
    "from sklearn.model_selection import cross_val_score\n",
    "from sklearn import (\n",
    "    metrics, \n",
    "    linear_model, \n",
    "    ensemble,\n",
    "    neighbors,\n",
    ")\n",
    "\n",
    "\n",
    "import seaborn as sns\n",
    "import matplotlib.pyplot as plt\n",
    "%matplotlib inline"
   ]
  },
  {
   "cell_type": "code",
   "execution_count": 423,
   "metadata": {},
   "outputs": [
    {
     "data": {
      "text/html": [
       "<div>\n",
       "<style>\n",
       "    .dataframe thead tr:only-child th {\n",
       "        text-align: right;\n",
       "    }\n",
       "\n",
       "    .dataframe thead th {\n",
       "        text-align: left;\n",
       "    }\n",
       "\n",
       "    .dataframe tbody tr th {\n",
       "        vertical-align: top;\n",
       "    }\n",
       "</style>\n",
       "<table border=\"1\" class=\"dataframe\">\n",
       "  <thead>\n",
       "    <tr style=\"text-align: right;\">\n",
       "      <th></th>\n",
       "      <th>admit</th>\n",
       "      <th>gre</th>\n",
       "      <th>gpa</th>\n",
       "      <th>prestige</th>\n",
       "    </tr>\n",
       "  </thead>\n",
       "  <tbody>\n",
       "    <tr>\n",
       "      <th>0</th>\n",
       "      <td>0</td>\n",
       "      <td>380.0</td>\n",
       "      <td>3.61</td>\n",
       "      <td>3.0</td>\n",
       "    </tr>\n",
       "    <tr>\n",
       "      <th>1</th>\n",
       "      <td>1</td>\n",
       "      <td>660.0</td>\n",
       "      <td>3.67</td>\n",
       "      <td>3.0</td>\n",
       "    </tr>\n",
       "    <tr>\n",
       "      <th>2</th>\n",
       "      <td>1</td>\n",
       "      <td>800.0</td>\n",
       "      <td>4.00</td>\n",
       "      <td>1.0</td>\n",
       "    </tr>\n",
       "    <tr>\n",
       "      <th>3</th>\n",
       "      <td>1</td>\n",
       "      <td>640.0</td>\n",
       "      <td>3.19</td>\n",
       "      <td>4.0</td>\n",
       "    </tr>\n",
       "    <tr>\n",
       "      <th>4</th>\n",
       "      <td>0</td>\n",
       "      <td>520.0</td>\n",
       "      <td>2.93</td>\n",
       "      <td>4.0</td>\n",
       "    </tr>\n",
       "  </tbody>\n",
       "</table>\n",
       "</div>"
      ],
      "text/plain": [
       "   admit    gre   gpa  prestige\n",
       "0      0  380.0  3.61       3.0\n",
       "1      1  660.0  3.67       3.0\n",
       "2      1  800.0  4.00       1.0\n",
       "3      1  640.0  3.19       4.0\n",
       "4      0  520.0  2.93       4.0"
      ]
     },
     "execution_count": 423,
     "metadata": {},
     "output_type": "execute_result"
    }
   ],
   "source": [
    "# Note: you may need to adjust the path to the dataset below\n",
    "admissions = pd.read_csv('../data/dataset-ucla-admissions.csv')\n",
    "admissions.head()"
   ]
  },
  {
   "cell_type": "markdown",
   "metadata": {},
   "source": [
    ">**Question 1:**\n",
    "\n",
    ">What is the target / outcome variable? What are the features? Which features are continous or categorical? What is the null accuracy? If there are categorical variables, turn them into dummy variables."
   ]
  },
  {
   "cell_type": "code",
   "execution_count": 424,
   "metadata": {},
   "outputs": [
    {
     "name": "stdout",
     "output_type": "stream",
     "text": [
      "Null Accuracy:\n",
      "admit       0\n",
      "gre         2\n",
      "gpa         2\n",
      "prestige    1\n",
      "dtype: int64 \n",
      "\n",
      "Total Rows:  400\n",
      "Total Rows after nan handled:  397\n"
     ]
    },
    {
     "data": {
      "text/html": [
       "<div>\n",
       "<style>\n",
       "    .dataframe thead tr:only-child th {\n",
       "        text-align: right;\n",
       "    }\n",
       "\n",
       "    .dataframe thead th {\n",
       "        text-align: left;\n",
       "    }\n",
       "\n",
       "    .dataframe tbody tr th {\n",
       "        vertical-align: top;\n",
       "    }\n",
       "</style>\n",
       "<table border=\"1\" class=\"dataframe\">\n",
       "  <thead>\n",
       "    <tr style=\"text-align: right;\">\n",
       "      <th></th>\n",
       "      <th>admit</th>\n",
       "      <th>gre</th>\n",
       "      <th>gpa</th>\n",
       "      <th>gre_normalized</th>\n",
       "      <th>prestige_2.0</th>\n",
       "      <th>prestige_3.0</th>\n",
       "      <th>prestige_4.0</th>\n",
       "    </tr>\n",
       "  </thead>\n",
       "  <tbody>\n",
       "    <tr>\n",
       "      <th>0</th>\n",
       "      <td>0</td>\n",
       "      <td>380.0</td>\n",
       "      <td>3.61</td>\n",
       "      <td>0.275862</td>\n",
       "      <td>0</td>\n",
       "      <td>1</td>\n",
       "      <td>0</td>\n",
       "    </tr>\n",
       "    <tr>\n",
       "      <th>1</th>\n",
       "      <td>1</td>\n",
       "      <td>660.0</td>\n",
       "      <td>3.67</td>\n",
       "      <td>0.758621</td>\n",
       "      <td>0</td>\n",
       "      <td>1</td>\n",
       "      <td>0</td>\n",
       "    </tr>\n",
       "    <tr>\n",
       "      <th>2</th>\n",
       "      <td>1</td>\n",
       "      <td>800.0</td>\n",
       "      <td>4.00</td>\n",
       "      <td>1.000000</td>\n",
       "      <td>0</td>\n",
       "      <td>0</td>\n",
       "      <td>0</td>\n",
       "    </tr>\n",
       "    <tr>\n",
       "      <th>3</th>\n",
       "      <td>1</td>\n",
       "      <td>640.0</td>\n",
       "      <td>3.19</td>\n",
       "      <td>0.724138</td>\n",
       "      <td>0</td>\n",
       "      <td>0</td>\n",
       "      <td>1</td>\n",
       "    </tr>\n",
       "    <tr>\n",
       "      <th>4</th>\n",
       "      <td>0</td>\n",
       "      <td>520.0</td>\n",
       "      <td>2.93</td>\n",
       "      <td>0.517241</td>\n",
       "      <td>0</td>\n",
       "      <td>0</td>\n",
       "      <td>1</td>\n",
       "    </tr>\n",
       "  </tbody>\n",
       "</table>\n",
       "</div>"
      ],
      "text/plain": [
       "   admit    gre   gpa  gre_normalized  prestige_2.0  prestige_3.0  \\\n",
       "0      0  380.0  3.61        0.275862             0             1   \n",
       "1      1  660.0  3.67        0.758621             0             1   \n",
       "2      1  800.0  4.00        1.000000             0             0   \n",
       "3      1  640.0  3.19        0.724138             0             0   \n",
       "4      0  520.0  2.93        0.517241             0             0   \n",
       "\n",
       "   prestige_4.0  \n",
       "0             0  \n",
       "1             0  \n",
       "2             0  \n",
       "3             1  \n",
       "4             1  "
      ]
     },
     "execution_count": 424,
     "metadata": {},
     "output_type": "execute_result"
    }
   ],
   "source": [
    "#Target Variable is \"admit\"\n",
    "#prestige is categorical value, which can be turned into the dummy variables\n",
    "#features are \"gre\" and \"gpa\"\n",
    "\n",
    "# null accuracy\n",
    "\n",
    "# admit       0\n",
    "# gre         2\n",
    "# gpa         2\n",
    "# prestige    1\n",
    "\n",
    "print \"Null Accuracy:\\n\", admissions.isnull().sum(), \"\\n\"\n",
    "print \"Total Rows: \", admissions.shape[0]\n",
    "admissions.dropna(inplace=True)\n",
    "print \"Total Rows after nan handled: \", admissions.shape[0]\n",
    "\n",
    "import sklearn.preprocessing as sk\n",
    "#normalizer = sk.Normalizer(norm='l2', copy=True)\n",
    "#admissions['gre_normalized'] = normalizer.fit_transform(admissions[['gre']])\n",
    "\n",
    "#admissions['gre_normalized'] = sk.normalize(admissions[['gre']], norm='l2')\n",
    "admissions['gre_normalized'] = sk.minmax_scale(admissions[['gre']], axis=0, copy=True)\n",
    "\n",
    "admissions = pd.get_dummies(admissions, prefix='prestige', columns=['prestige'], drop_first=True)\n",
    "admissions.head()"
   ]
  },
  {
   "cell_type": "code",
   "execution_count": 425,
   "metadata": {},
   "outputs": [
    {
     "data": {
      "text/plain": [
       "0.689655    30\n",
       "0.620690    28\n",
       "0.551724    27\n",
       "1.000000    25\n",
       "0.517241    24\n",
       "0.586207    24\n",
       "0.655172    23\n",
       "0.758621    23\n",
       "0.827586    22\n",
       "0.482759    21\n",
       "0.724138    21\n",
       "0.793103    20\n",
       "0.448276    16\n",
       "0.413793    13\n",
       "0.310345    11\n",
       "0.896552    11\n",
       "0.862069    11\n",
       "0.379310    10\n",
       "0.275862     8\n",
       "0.344828     7\n",
       "0.965517     5\n",
       "0.931034     5\n",
       "0.241379     4\n",
       "0.206897     4\n",
       "0.137931     3\n",
       "0.000000     1\n",
       "Name: gre_normalized, dtype: int64"
      ]
     },
     "execution_count": 425,
     "metadata": {},
     "output_type": "execute_result"
    }
   ],
   "source": [
    "admissions.gre_normalized.value_counts()"
   ]
  },
  {
   "cell_type": "markdown",
   "metadata": {},
   "source": [
    ">**Question 2:**\n",
    "\n",
    ">What do you think is the goal of using machine learning with this dataset?"
   ]
  },
  {
   "cell_type": "code",
   "execution_count": 426,
   "metadata": {
    "collapsed": true
   },
   "outputs": [],
   "source": [
    "# to predict whether are not to admit the candidate with give gpa, gre and prestige features. This could be simple by Random Forest with comparison of logistic regression."
   ]
  },
  {
   "cell_type": "markdown",
   "metadata": {},
   "source": [
    ">**Question 3:** \n",
    "\n",
    ">Make a scatter plot of gpa vs gre, color-encoded using the admit feature. What does this graph tell you?"
   ]
  },
  {
   "cell_type": "code",
   "execution_count": 427,
   "metadata": {},
   "outputs": [
    {
     "data": {
      "text/plain": [
       "<matplotlib.axes._subplots.AxesSubplot at 0x1a22083910>"
      ]
     },
     "execution_count": 427,
     "metadata": {},
     "output_type": "execute_result"
    },
    {
     "data": {
      "image/png": "[encoded data removed]",
      "text/plain": [
       "<matplotlib.figure.Figure at 0x1a21ccbc10>"
      ]
     },
     "metadata": {},
     "output_type": "display_data"
    }
   ],
   "source": [
    "admissions.plot(kind='scatter', x='gre_normalized', y='gpa', figsize=(10,10), c=('red','blue'))"
   ]
  },
  {
   "cell_type": "code",
   "execution_count": 428,
   "metadata": {},
   "outputs": [
    {
     "data": {
      "text/plain": [
       "<matplotlib.axes._subplots.AxesSubplot at 0x1a2285c8d0>"
      ]
     },
     "execution_count": 428,
     "metadata": {},
     "output_type": "execute_result"
    },
    {
     "data": {
      "image/png": "[encoded data removed]",
      "text/plain": [
       "<matplotlib.figure.Figure at 0x1a21e73290>"
      ]
     },
     "metadata": {},
     "output_type": "display_data"
    }
   ],
   "source": [
    "admissions.plot.hexbin(x='gre_normalized', y='gpa', figsize=(10,10), gridsize=25)"
   ]
  },
  {
   "cell_type": "code",
   "execution_count": null,
   "metadata": {},
   "outputs": [],
   "source": []
  },
  {
   "cell_type": "markdown",
   "metadata": {},
   "source": [
    ">**Question 4:** \n",
    "\n",
    ">1. Split the data between a train and test set, with 25% of the data for testing.\n",
    ">2. Fit a Logistic Regression model on the training data.\n",
    ">3. Evaluate the model on both the training and testing datasets using the area under the ROC curve.\n",
    ">4. What's the difference in the AUC score of the training and testing datasets? Is this evidence of overfitting?"
   ]
  },
  {
   "cell_type": "code",
   "execution_count": 429,
   "metadata": {},
   "outputs": [
    {
     "data": {
      "text/plain": [
       "['admit',\n",
       " 'gre',\n",
       " 'gpa',\n",
       " 'gre_normalized',\n",
       " 'prestige_2.0',\n",
       " 'prestige_3.0',\n",
       " 'prestige_4.0']"
      ]
     },
     "execution_count": 429,
     "metadata": {},
     "output_type": "execute_result"
    }
   ],
   "source": [
    "admissions.columns.tolist()"
   ]
  },
  {
   "cell_type": "code",
   "execution_count": 459,
   "metadata": {
    "collapsed": true
   },
   "outputs": [],
   "source": [
    "def splitDataset(df, features, target):\n",
    "    # Create the features matrix\n",
    "    X = df[features]\n",
    "\n",
    "    # Create the target vector\n",
    "    y = df[target]\n",
    "\n",
    "    # Create training and test sets\n",
    "    X_train, X_test, y_train, y_test = train_test_split(X, \n",
    "                                                        y, \n",
    "                                                        test_size=0.25, \n",
    "                                                        random_state=1)\n",
    "\n",
    "    print \"Train X:\", X_train.shape[0]\n",
    "    print \"Train Y:\", y_train.shape[0]\n",
    "    print \"Test X:\", X_test.shape[0]\n",
    "    print \"Test Y:\", y_test.shape[0]\n",
    "    return X_train, X_test, y_train, y_test\n",
    "\n",
    "\n",
    "def printCrossValidation (cls, X,y, model_name):\n",
    "    print '\\n',model_name,':'\n",
    "    print ' Score:', cls.score(X, y)\n",
    "    print ' ROC AUC:', cross_val_score(cls, X, y, scoring='roc_auc', cv=5).mean()\n",
    "    print ' Accuracy:', cross_val_score(cls, X, y, scoring='accuracy', cv=5).mean()\n",
    "    print ' Recall:', cross_val_score(cls, X, y, scoring='recall', cv=5).mean()\n",
    "    \n",
    "    \n",
    "\n",
    "def fitRandomForest(X, y):\n",
    "    cls = ensemble.RandomForestClassifier(n_estimators=100) \n",
    "    cls.fit(X, y)\n",
    "    \n",
    "    cols =  X.columns\n",
    "    feature_importances = cls.feature_importances_\n",
    "    features_df = pd.DataFrame({'features': features, 'importance': feature_importances})\n",
    "    features_df.sort_values('importance', inplace=True, ascending=False)\n",
    "    \n",
    "    printCrossValidation (cls, X,y, \"Random Forest\")\n",
    "    print ' Feature importance: ',features_df.head(25)\n",
    "    return cls\n",
    "\n",
    "\n",
    "\n",
    "def fitKNN(X, y):\n",
    "    cls = neighbors.KNeighborsClassifier(n_neighbors=10)\n",
    "    cls.fit(X, y)\n",
    "    printCrossValidation (cls, X,y, \"KNN\")\n",
    "    \n",
    "    return cls\n",
    "\n",
    "\n",
    "\n",
    "def fitLogisticRegression(X, y):\n",
    "    cls = linear_model.LogisticRegression() \n",
    "    cls.fit(X, y)\n",
    "    printCrossValidation (cls, X,y, \"Logistic Regression\")\n",
    "    \n",
    "    return cls"
   ]
  },
  {
   "cell_type": "markdown",
   "metadata": {},
   "source": [
    "# Logistics Regression"
   ]
  },
  {
   "cell_type": "code",
   "execution_count": 445,
   "metadata": {
    "collapsed": true
   },
   "outputs": [
    {
     "name": "stdout",
     "output_type": "stream",
     "text": [
      "Train X: 297\n",
      "Train Y: 297\n",
      "Test X: 100\n",
      "Test Y: 100\n",
      "\n",
      "Logistic Regression :\n",
      " Score: 0.703703703704\n",
      " ROC AUC: 0.701520748988\n",
      " Accuracy: 0.697260861095\n",
      " Recall: 0.232631578947\n",
      "\n",
      "Logistic Regression :\n",
      " Score: 0.73\n",
      " ROC AUC: 0.484698412698\n",
      " Accuracy: 0.709398496241\n",
      " Recall: 0.0\n"
     ]
    }
   ],
   "source": [
    "features = ['gre', 'gpa', 'prestige_2.0', 'prestige_3.0', 'prestige_4.0']\n",
    "target = 'admit'\n",
    "X_train, X_test, y_train, y_test = splitDataset(admissions, features, target)\n",
    "cls_train = fitLogisticRegression(X_train, y_train)\n",
    "cls_test = fitLogisticRegression(X_test, y_test)"
   ]
  },
  {
   "cell_type": "markdown",
   "metadata": {},
   "source": [
    "# Random Forest"
   ]
  },
  {
   "cell_type": "markdown",
   "metadata": {},
   "source": [
    ">**Question 5:** \n",
    "\n",
    ">Build a KNN model and a Random Forest model trained on this dataset. What's the cross validation score for each? Use roc_auc as your evaluation metric."
   ]
  },
  {
   "cell_type": "code",
   "execution_count": 446,
   "metadata": {},
   "outputs": [
    {
     "name": "stdout",
     "output_type": "stream",
     "text": [
      "Train X: 297\n",
      "Train Y: 297\n",
      "Test X: 100\n",
      "Test Y: 100\n",
      " Feature importance:         features  importance\n",
      "1           gpa    0.513096\n",
      "0           gre    0.370877\n",
      "2  prestige_2.0    0.040619\n",
      "4  prestige_4.0    0.039040\n",
      "3  prestige_3.0    0.036368\n",
      "\n",
      "Random Forest :\n",
      " Score: 0.996632996633\n",
      " ROC AUC: 0.65162331309\n",
      " Accuracy: 0.650539645432\n",
      " Recall: 0.354736842105\n",
      " Feature importance:         features  importance\n",
      "1           gpa    0.537075\n",
      "0           gre    0.335640\n",
      "2  prestige_2.0    0.055660\n",
      "3  prestige_3.0    0.046566\n",
      "4  prestige_4.0    0.025058\n",
      "\n",
      "Random Forest :\n",
      " Score: 0.99\n",
      " ROC AUC: 0.501238095238\n",
      " Accuracy: 0.67030075188\n",
      " Recall: 0.0333333333333\n"
     ]
    }
   ],
   "source": [
    "features = ['gre', 'gpa', 'prestige_2.0', 'prestige_3.0', 'prestige_4.0']\n",
    "target = 'admit'\n",
    "X_train, X_test, y_train, y_test = splitDataset(admissions, features, target)\n",
    "rfcls_train = fitRandomForest(X_train, y_train)\n",
    "rfcls_test = fitRandomForest(X_test, y_test)"
   ]
  },
  {
   "cell_type": "markdown",
   "metadata": {},
   "source": [
    "# KNN"
   ]
  },
  {
   "cell_type": "code",
   "execution_count": 447,
   "metadata": {},
   "outputs": [
    {
     "name": "stdout",
     "output_type": "stream",
     "text": [
      "Train X: 297\n",
      "Train Y: 297\n",
      "Test X: 100\n",
      "Test Y: 100\n",
      "\n",
      "KNN :\n",
      " Score: 0.744107744108\n",
      " ROC AUC: 0.633992746289\n",
      " Accuracy: 0.704153516462\n",
      " Recall: 0.233157894737\n",
      "\n",
      "KNN :\n",
      " Score: 0.75\n",
      " ROC AUC: 0.480603174603\n",
      " Accuracy: 0.688345864662\n",
      " Recall: 0.113333333333\n"
     ]
    }
   ],
   "source": [
    "features = ['gre_normalized', 'gpa', 'prestige_2.0', 'prestige_3.0', 'prestige_4.0']\n",
    "target = 'admit'\n",
    "X_train, X_test, y_train, y_test = splitDataset(admissions, features, target)\n",
    "knncls_train = fitKNN(X_train, y_train)\n",
    "knncls_test = fitKNN(X_test, y_test)"
   ]
  },
  {
   "cell_type": "markdown",
   "metadata": {},
   "source": [
    ">**Question 6:** \n",
    "\n",
    "> What do false positives and false negatives represent in the context of this model? If you work in an admissions department, would you rather have a model that minimizes false negatives or minimizes false positives? Why?"
   ]
  },
  {
   "cell_type": "code",
   "execution_count": 448,
   "metadata": {
    "collapsed": true
   },
   "outputs": [],
   "source": [
    "# false postive = a guy doesnt have qualification will be predicted as \"admit\"\n",
    "# false negative = a guy does have qualification will be predicted as \"no admit\"\n",
    "\n",
    "# I would minimize the false positive"
   ]
  },
  {
   "cell_type": "markdown",
   "metadata": {},
   "source": [
    ">**Question 7:** \n",
    "\n",
    ">Using the Logistic Regression model from Question 4, what is the probability of admission of the following prospective students:\n",
    "\n",
    ">- Student 1: $GRE = 560$, $GPA = 3.6$, $Prestige = 2$\n",
    ">- Student 2: $GRE = 750$, $GPA = 3.8$, $Prestige = 4$\n",
    ">- Student 3: $GRE = 660$, $GPA = 3.1$, $Prestige = 1$"
   ]
  },
  {
   "cell_type": "code",
   "execution_count": 449,
   "metadata": {},
   "outputs": [
    {
     "name": "stdout",
     "output_type": "stream",
     "text": [
      "0.407627240389\n",
      "0.297940823055\n",
      "0.546985496064\n"
     ]
    }
   ],
   "source": [
    "\n",
    "l1 = [[560, 3.6, 1, 0, 0]]\n",
    "l2 = [[750, 3.8, 0, 0, 1]]\n",
    "l3 = [[660, 3.1, 0, 0, 0]]\n",
    "\n",
    "print cls_train.predict_proba(l1)[0,1]\n",
    "print cls_train.predict_proba(l2)[0,1]\n",
    "print cls_train.predict_proba(l3)[0,1]\n"
   ]
  },
  {
   "cell_type": "code",
   "execution_count": 450,
   "metadata": {},
   "outputs": [
    {
     "name": "stdout",
     "output_type": "stream",
     "text": [
      "Train X: 297\n",
      "Train Y: 297\n",
      "Test X: 100\n",
      "Test Y: 100\n"
     ]
    }
   ],
   "source": [
    "features = ['gre', 'gpa', 'prestige_2.0', 'prestige_3.0', 'prestige_4.0']\n",
    "target = 'admit'\n",
    "X_train, X_test, y_train, y_test = splitDataset(admissions, features, target)\n",
    "X_train['predicted'] = cls_train.predict_proba(X_train)[0,1]\n",
    "X_train['predicted'] = X_train['predicted'].map(lambda x: 1 if x > 0.5 else 0)"
   ]
  },
  {
   "cell_type": "code",
   "execution_count": 453,
   "metadata": {},
   "outputs": [
    {
     "name": "stdout",
     "output_type": "stream",
     "text": [
      "             precision    recall  f1-score   support\n",
      "\n",
      "   No Admit       0.67      1.00      0.80       198\n",
      "      Admit       0.00      0.00      0.00        99\n",
      "\n",
      "avg / total       0.44      0.67      0.53       297\n",
      "\n"
     ]
    }
   ],
   "source": [
    "from sklearn.metrics import classification_report\n",
    "y_true = y_train\n",
    "y_pred = X_train['predicted']\n",
    "target_names = ['No Admit', 'Admit']\n",
    "print(classification_report(y_true, y_pred , target_names=target_names))"
   ]
  },
  {
   "cell_type": "markdown",
   "metadata": {},
   "source": [
    "## Section 2: Mystery Dataset\n",
    "\n",
    "In this section you will work with a \"mystery\" supervised classification dataset meaning that you have no context to work with — the names of the features come from San Francisco neighborhoods but aren't actually related to anything having to do with San Francisco.\n",
    "\n",
    "In this section, we want to devise the best possible model with the fewest number of features. Some of the features are informative, while others are junk. Your task is to find the good ones while dropping the bad ones.\n",
    "\n",
    "I want you to thoroughly test at least three algorithms in order to find the best one with the best parameters."
   ]
  },
  {
   "cell_type": "code",
   "execution_count": 454,
   "metadata": {},
   "outputs": [
    {
     "data": {
      "text/html": [
       "<div>\n",
       "<style>\n",
       "    .dataframe thead tr:only-child th {\n",
       "        text-align: right;\n",
       "    }\n",
       "\n",
       "    .dataframe thead th {\n",
       "        text-align: left;\n",
       "    }\n",
       "\n",
       "    .dataframe tbody tr th {\n",
       "        vertical-align: top;\n",
       "    }\n",
       "</style>\n",
       "<table border=\"1\" class=\"dataframe\">\n",
       "  <thead>\n",
       "    <tr style=\"text-align: right;\">\n",
       "      <th></th>\n",
       "      <th>haight</th>\n",
       "      <th>mission</th>\n",
       "      <th>soma</th>\n",
       "      <th>sunset</th>\n",
       "      <th>richmond</th>\n",
       "      <th>glen_park</th>\n",
       "      <th>castro</th>\n",
       "      <th>potrero</th>\n",
       "      <th>hayes_valley</th>\n",
       "      <th>fillmore</th>\n",
       "      <th>bernal</th>\n",
       "      <th>marina</th>\n",
       "      <th>north_beach</th>\n",
       "      <th>excelsior</th>\n",
       "      <th>target</th>\n",
       "    </tr>\n",
       "  </thead>\n",
       "  <tbody>\n",
       "    <tr>\n",
       "      <th>0</th>\n",
       "      <td>-3.126509</td>\n",
       "      <td>7.807749</td>\n",
       "      <td>0.959736</td>\n",
       "      <td>-2.248569</td>\n",
       "      <td>4.557675</td>\n",
       "      <td>1.110156</td>\n",
       "      <td>0.617296</td>\n",
       "      <td>0.356864</td>\n",
       "      <td>0.860267</td>\n",
       "      <td>-0.395962</td>\n",
       "      <td>-1.144975</td>\n",
       "      <td>-1.805742</td>\n",
       "      <td>1.498388</td>\n",
       "      <td>2.157730</td>\n",
       "      <td>1</td>\n",
       "    </tr>\n",
       "    <tr>\n",
       "      <th>1</th>\n",
       "      <td>0.941629</td>\n",
       "      <td>2.935495</td>\n",
       "      <td>-0.584966</td>\n",
       "      <td>-0.880963</td>\n",
       "      <td>-1.262072</td>\n",
       "      <td>0.120989</td>\n",
       "      <td>3.970787</td>\n",
       "      <td>2.509629</td>\n",
       "      <td>1.400017</td>\n",
       "      <td>0.574335</td>\n",
       "      <td>-3.389879</td>\n",
       "      <td>-0.898020</td>\n",
       "      <td>0.512079</td>\n",
       "      <td>4.340694</td>\n",
       "      <td>1</td>\n",
       "    </tr>\n",
       "    <tr>\n",
       "      <th>2</th>\n",
       "      <td>-0.724688</td>\n",
       "      <td>4.192606</td>\n",
       "      <td>-1.139602</td>\n",
       "      <td>0.856972</td>\n",
       "      <td>0.906893</td>\n",
       "      <td>-2.799484</td>\n",
       "      <td>0.584498</td>\n",
       "      <td>3.468955</td>\n",
       "      <td>1.011336</td>\n",
       "      <td>0.839612</td>\n",
       "      <td>-1.384781</td>\n",
       "      <td>-0.241726</td>\n",
       "      <td>1.502255</td>\n",
       "      <td>-1.539356</td>\n",
       "      <td>1</td>\n",
       "    </tr>\n",
       "    <tr>\n",
       "      <th>3</th>\n",
       "      <td>-2.641034</td>\n",
       "      <td>6.963189</td>\n",
       "      <td>0.962412</td>\n",
       "      <td>-0.838858</td>\n",
       "      <td>1.549620</td>\n",
       "      <td>-2.335671</td>\n",
       "      <td>-0.838585</td>\n",
       "      <td>1.924333</td>\n",
       "      <td>2.794306</td>\n",
       "      <td>-0.421610</td>\n",
       "      <td>-1.273275</td>\n",
       "      <td>0.833424</td>\n",
       "      <td>2.268457</td>\n",
       "      <td>-0.004678</td>\n",
       "      <td>0</td>\n",
       "    </tr>\n",
       "    <tr>\n",
       "      <th>4</th>\n",
       "      <td>1.259116</td>\n",
       "      <td>4.741797</td>\n",
       "      <td>1.084332</td>\n",
       "      <td>0.186698</td>\n",
       "      <td>4.794145</td>\n",
       "      <td>-1.093006</td>\n",
       "      <td>2.161358</td>\n",
       "      <td>3.264167</td>\n",
       "      <td>-0.060052</td>\n",
       "      <td>1.154145</td>\n",
       "      <td>-2.030773</td>\n",
       "      <td>-1.442986</td>\n",
       "      <td>0.588193</td>\n",
       "      <td>0.533464</td>\n",
       "      <td>1</td>\n",
       "    </tr>\n",
       "  </tbody>\n",
       "</table>\n",
       "</div>"
      ],
      "text/plain": [
       "     haight   mission      soma    sunset  richmond  glen_park    castro  \\\n",
       "0 -3.126509  7.807749  0.959736 -2.248569  4.557675   1.110156  0.617296   \n",
       "1  0.941629  2.935495 -0.584966 -0.880963 -1.262072   0.120989  3.970787   \n",
       "2 -0.724688  4.192606 -1.139602  0.856972  0.906893  -2.799484  0.584498   \n",
       "3 -2.641034  6.963189  0.962412 -0.838858  1.549620  -2.335671 -0.838585   \n",
       "4  1.259116  4.741797  1.084332  0.186698  4.794145  -1.093006  2.161358   \n",
       "\n",
       "    potrero  hayes_valley  fillmore    bernal    marina  north_beach  \\\n",
       "0  0.356864      0.860267 -0.395962 -1.144975 -1.805742     1.498388   \n",
       "1  2.509629      1.400017  0.574335 -3.389879 -0.898020     0.512079   \n",
       "2  3.468955      1.011336  0.839612 -1.384781 -0.241726     1.502255   \n",
       "3  1.924333      2.794306 -0.421610 -1.273275  0.833424     2.268457   \n",
       "4  3.264167     -0.060052  1.154145 -2.030773 -1.442986     0.588193   \n",
       "\n",
       "   excelsior  target  \n",
       "0   2.157730       1  \n",
       "1   4.340694       1  \n",
       "2  -1.539356       1  \n",
       "3  -0.004678       0  \n",
       "4   0.533464       1  "
      ]
     },
     "execution_count": 454,
     "metadata": {},
     "output_type": "execute_result"
    }
   ],
   "source": [
    "data = pd.read_csv('../data/homework_2_data.csv', index_col=[0])\n",
    "data.head()"
   ]
  },
  {
   "cell_type": "code",
   "execution_count": 455,
   "metadata": {},
   "outputs": [
    {
     "data": {
      "text/plain": [
       "['haight',\n",
       " 'mission',\n",
       " 'soma',\n",
       " 'sunset',\n",
       " 'richmond',\n",
       " 'glen_park',\n",
       " 'castro',\n",
       " 'potrero',\n",
       " 'hayes_valley',\n",
       " 'fillmore',\n",
       " 'bernal',\n",
       " 'marina',\n",
       " 'north_beach',\n",
       " 'excelsior',\n",
       " 'target']"
      ]
     },
     "execution_count": 455,
     "metadata": {},
     "output_type": "execute_result"
    }
   ],
   "source": [
    "data.columns.tolist()"
   ]
  },
  {
   "cell_type": "markdown",
   "metadata": {},
   "source": [
    "### Doing SelectKBest to pick the significant features"
   ]
  },
  {
   "cell_type": "code",
   "execution_count": 456,
   "metadata": {
    "collapsed": true
   },
   "outputs": [
    {
     "data": {
      "text/html": [
       "<div>\n",
       "<style>\n",
       "    .dataframe thead tr:only-child th {\n",
       "        text-align: right;\n",
       "    }\n",
       "\n",
       "    .dataframe thead th {\n",
       "        text-align: left;\n",
       "    }\n",
       "\n",
       "    .dataframe tbody tr th {\n",
       "        vertical-align: top;\n",
       "    }\n",
       "</style>\n",
       "<table border=\"1\" class=\"dataframe\">\n",
       "  <thead>\n",
       "    <tr style=\"text-align: right;\">\n",
       "      <th></th>\n",
       "      <th>0</th>\n",
       "    </tr>\n",
       "  </thead>\n",
       "  <tbody>\n",
       "    <tr>\n",
       "      <th>potrero</th>\n",
       "      <td>165.193914</td>\n",
       "    </tr>\n",
       "    <tr>\n",
       "      <th>north_beach</th>\n",
       "      <td>163.417701</td>\n",
       "    </tr>\n",
       "    <tr>\n",
       "      <th>richmond</th>\n",
       "      <td>160.929145</td>\n",
       "    </tr>\n",
       "    <tr>\n",
       "      <th>castro</th>\n",
       "      <td>145.225710</td>\n",
       "    </tr>\n",
       "    <tr>\n",
       "      <th>hayes_valley</th>\n",
       "      <td>129.082735</td>\n",
       "    </tr>\n",
       "    <tr>\n",
       "      <th>haight</th>\n",
       "      <td>121.775215</td>\n",
       "    </tr>\n",
       "    <tr>\n",
       "      <th>mission</th>\n",
       "      <td>76.459774</td>\n",
       "    </tr>\n",
       "    <tr>\n",
       "      <th>excelsior</th>\n",
       "      <td>59.443310</td>\n",
       "    </tr>\n",
       "    <tr>\n",
       "      <th>fillmore</th>\n",
       "      <td>3.319861</td>\n",
       "    </tr>\n",
       "    <tr>\n",
       "      <th>sunset</th>\n",
       "      <td>2.787440</td>\n",
       "    </tr>\n",
       "    <tr>\n",
       "      <th>marina</th>\n",
       "      <td>0.617992</td>\n",
       "    </tr>\n",
       "    <tr>\n",
       "      <th>bernal</th>\n",
       "      <td>0.503826</td>\n",
       "    </tr>\n",
       "    <tr>\n",
       "      <th>soma</th>\n",
       "      <td>0.459325</td>\n",
       "    </tr>\n",
       "    <tr>\n",
       "      <th>glen_park</th>\n",
       "      <td>0.125836</td>\n",
       "    </tr>\n",
       "  </tbody>\n",
       "</table>\n",
       "</div>"
      ],
      "text/plain": [
       "                       0\n",
       "potrero       165.193914\n",
       "north_beach   163.417701\n",
       "richmond      160.929145\n",
       "castro        145.225710\n",
       "hayes_valley  129.082735\n",
       "haight        121.775215\n",
       "mission        76.459774\n",
       "excelsior      59.443310\n",
       "fillmore        3.319861\n",
       "sunset          2.787440\n",
       "marina          0.617992\n",
       "bernal          0.503826\n",
       "soma            0.459325\n",
       "glen_park       0.125836"
      ]
     },
     "execution_count": 456,
     "metadata": {},
     "output_type": "execute_result"
    }
   ],
   "source": [
    "Xlist = data.columns.tolist()\n",
    "y = data['target']\n",
    "\n",
    "#print y\n",
    "#print X\n",
    "\n",
    "import sklearn.feature_selection as fes\n",
    "from sklearn.feature_selection import (chi2,f_regression, f_classif)\n",
    "lscores = []\n",
    "for col in Xlist:\n",
    "    X = data[[col]]\n",
    "    selector = fes.SelectKBest(f_regression, k='all').fit(X,y)\n",
    "    x_new = selector.transform(X) # not needed to get the score\n",
    "    scores = selector.scores_[0]\n",
    "    lscores.append(scores)\n",
    "\n",
    "\n",
    "df_score = pd.DataFrame(pd.Series(lscores, index = Xlist))\n",
    "df_score.sort_values(0, ascending=False, inplace=True)\n",
    "df_score.head(25)\n"
   ]
  },
  {
   "cell_type": "code",
   "execution_count": 457,
   "metadata": {},
   "outputs": [
    {
     "data": {
      "text/plain": [
       "<matplotlib.axes._subplots.AxesSubplot at 0x1a21edb390>"
      ]
     },
     "execution_count": 457,
     "metadata": {},
     "output_type": "execute_result"
    },
    {
     "data": {
      "image/png": "[encoded data removed]",
      "text/plain": [
       "<matplotlib.figure.Figure at 0x1a21aff050>"
      ]
     },
     "metadata": {},
     "output_type": "display_data"
    }
   ],
   "source": [
    "df_score[0].plot()"
   ]
  },
  {
   "cell_type": "code",
   "execution_count": 460,
   "metadata": {},
   "outputs": [
    {
     "name": "stdout",
     "output_type": "stream",
     "text": [
      "Train X: 3000\n",
      "Train Y: 3000\n",
      "Test X: 1000\n",
      "Test Y: 1000\n",
      "\n",
      "Logistic Regression :\n",
      " Score: 0.769\n",
      " ROC AUC: 0.816661246651\n",
      " Accuracy: 0.766017806531\n",
      " Recall: 0.614981225465\n",
      "\n",
      "Logistic Regression :\n",
      " Score: 0.785\n",
      " ROC AUC: 0.824622628507\n",
      " Accuracy: 0.768987699692\n",
      " Recall: 0.615296803653\n",
      "\n",
      "Random Forest :\n",
      " Score: 1.0\n",
      " ROC AUC: 0.923809214303\n",
      " Accuracy: 0.853681894487\n",
      " Recall: 0.75256443079\n",
      " Feature importance:         features  importance\n",
      "1   north_beach    0.157231\n",
      "2      richmond    0.140503\n",
      "0       potrero    0.133843\n",
      "7     excelsior    0.125206\n",
      "6       mission    0.117135\n",
      "3        castro    0.111717\n",
      "5        haight    0.108134\n",
      "4  hayes_valley    0.106230\n",
      "\n",
      "Random Forest :\n",
      " Score: 1.0\n",
      " ROC AUC: 0.907537458128\n",
      " Accuracy: 0.833983174579\n",
      " Recall: 0.725304414003\n",
      " Feature importance:         features  importance\n",
      "1   north_beach    0.161710\n",
      "2      richmond    0.157495\n",
      "0       potrero    0.134921\n",
      "7     excelsior    0.124742\n",
      "6       mission    0.108808\n",
      "3        castro    0.108799\n",
      "5        haight    0.104953\n",
      "4  hayes_valley    0.098572\n",
      "\n",
      "KNN :\n",
      " Score: 0.865666666667\n",
      " ROC AUC: 0.922869249881\n",
      " Accuracy: 0.839000199075\n",
      " Recall: 0.659297661717\n",
      "\n",
      "KNN :\n",
      " Score: 0.862\n",
      " ROC AUC: 0.902298825714\n",
      " Accuracy: 0.821058151454\n",
      " Recall: 0.623706240487\n"
     ]
    }
   ],
   "source": [
    "#potrero, north_beach, richmond, castro, hayes_valley\n",
    "features = ['potrero', 'north_beach', 'richmond', 'castro', 'hayes_valley','haight', 'mission', 'excelsior']\n",
    "target = 'target'\n",
    "X_train, X_test, y_train, y_test = splitDataset(data, features, target)\n",
    "\n",
    "# logistic regression\n",
    "cls_train = fitLogisticRegression(X_train, y_train)\n",
    "cls_test = fitLogisticRegression(X_test, y_test)\n",
    "\n",
    "# Random Forest\n",
    "rfcls_train = fitRandomForest(X_train, y_train)\n",
    "rfcls_test = fitRandomForest(X_test, y_test)\n",
    "\n",
    "# KNN\n",
    "knncls_train = fitKNN(X_train, y_train)\n",
    "knncls_test = fitKNN(X_test, y_test)"
   ]
  },
  {
   "cell_type": "code",
   "execution_count": null,
   "metadata": {},
   "outputs": [],
   "source": []
  },
  {
   "cell_type": "code",
   "execution_count": null,
   "metadata": {},
   "outputs": [],
   "source": []
  }
 ],
 "metadata": {
  "kernelspec": {
   "display_name": "Python 2",
   "language": "python",
   "name": "python2"
  },
  "language_info": {
   "codemirror_mode": {
    "name": "ipython",
    "version": 2
   },
   "file_extension": ".py",
   "mimetype": "text/x-python",
   "name": "python",
   "nbconvert_exporter": "python",
   "pygments_lexer": "ipython2",
   "version": "2.7.14"
  }
 },
 "nbformat": 4,
 "nbformat_minor": 2
}
